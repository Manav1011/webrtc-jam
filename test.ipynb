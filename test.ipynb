{
 "cells": [
  {
   "cell_type": "code",
   "execution_count": 3,
   "id": "856d8ce1",
   "metadata": {},
   "outputs": [],
   "source": [
    "import asyncio\n",
    "import websockets\n",
    "import uuid\n",
    "from aiortc import RTCPeerConnection, RTCSessionDescription, RTCDataChannel"
   ]
  },
  {
   "cell_type": "code",
   "execution_count": 37,
   "id": "6db394f5",
   "metadata": {},
   "outputs": [
    {
     "name": "stdout",
     "output_type": "stream",
     "text": [
      "Channel ID: ce7ce617-0038-4633-a045-55a0cf74b747\n",
      "Share this channel ID with the user who wants to connect.\n",
      "Users can also discover this channel automatically when they run the user script.\n"
     ]
    }
   ],
   "source": [
    "uri = \"ws://localhost:8765\"\n",
    "async with websockets.connect(uri) as websocket:\n",
    "    channel_id = str(uuid.uuid4())\n",
    "    await websocket.send(channel_id)\n",
    "    print(f\"Channel ID: {channel_id}\")\n",
    "    print(\"Share this channel ID with the user who wants to connect.\")\n",
    "    print(\"Users can also discover this channel automatically when they run the user script.\")"
   ]
  },
  {
   "cell_type": "code",
   "execution_count": null,
   "id": "fe7994ee",
   "metadata": {},
   "outputs": [],
   "source": [
    "from aiortc import RTCPeerConnection, RTCSessionDescription\n",
    "import asyncio\n",
    "\n",
    "async def gather_complete(pc):\n",
    "    # Wait until ICE gathering is complete\n",
    "    await asyncio.sleep(0.1)\n",
    "    while pc.iceGatheringState != \"complete\":\n",
    "        await asyncio.sleep(0.1)"
   ]
  },
  {
   "cell_type": "code",
   "execution_count": null,
   "id": "71661490",
   "metadata": {},
   "outputs": [],
   "source": [
    "# Offerer\n",
    "pc = RTCPeerConnection()\n",
    "dc = pc.createDataChannel(\"audio\")\n",
    "@dc.on(\"open\")\n",
    "def on_open():\n",
    "    print(\"Data channel is open\")\n",
    "    dc.send(\"Ping from offerer\")\n",
    "    \n",
    "@dc.on(\"message\")\n",
    "def on_message(message):\n",
    "    print(f\"Offerer received: {message}\")\n",
    "    \n",
    "# Create offer\n",
    "offer = await pc.createOffer()\n",
    "await pc.setLocalDescription(offer)\n",
    "await gather_complete(pc)"
   ]
  },
  {
   "cell_type": "code",
   "execution_count": 75,
   "id": "dc8dfe1b",
   "metadata": {},
   "outputs": [],
   "source": [
    "# Answerer\n",
    "client_pc = RTCPeerConnection()\n",
    "\n",
    "@client_pc.on(\"iceconnectionstatechange\")\n",
    "def on_iceconnectionstatechange():\n",
    "    print(f\"Answerer ICE state: {client_pc.iceConnectionState}\")\n",
    "    \n",
    "    \n",
    "@client_pc.on(\"connectionstatechange\")\n",
    "def on_connectionstatechange():\n",
    "    print(f\"Connection state changed to: {pc.connectionState}\")\n",
    "    \n",
    "@client_pc.on(\"datachannel\")\n",
    "def on_datachannel(channel):\n",
    "    print(\"Answerer received data channel\")\n",
    "    @channel.on(\"open\")\n",
    "    def on_open():\n",
    "        print(\"Answerer channel open\")\n",
    "        channel.send(\"Hello from answerer\")\n",
    "    @channel.on(\"message\")\n",
    "    def on_message(message):\n",
    "        print(f\"Answerer received: {message}\")"
   ]
  },
  {
   "cell_type": "code",
   "execution_count": 76,
   "id": "9661c193",
   "metadata": {},
   "outputs": [
    {
     "name": "stdout",
     "output_type": "stream",
     "text": [
      "Answerer ICE state: checking\n",
      "Connection state changed to: new\n"
     ]
    },
    {
     "name": "stdout",
     "output_type": "stream",
     "text": [
      "Answerer ICE state: completed\n",
      "Connection state changed to: connected\n",
      "Answerer received data channel\n",
      "Data channel is open\n",
      "Answerer received: Ping from offerer\n"
     ]
    }
   ],
   "source": [
    "# Set offer and create answer\n",
    "await client_pc.setRemoteDescription(pc.localDescription)\n",
    "answer = await client_pc.createAnswer()\n",
    "await client_pc.setLocalDescription(answer)\n",
    "await gather_complete(client_pc)\n",
    "await pc.setRemoteDescription(client_pc.localDescription)"
   ]
  },
  {
   "cell_type": "code",
   "execution_count": null,
   "id": "add8629a",
   "metadata": {},
   "outputs": [
    {
     "ename": "ModuleNotFoundError",
     "evalue": "No module named 'reactive.ObservableList'",
     "output_type": "error",
     "traceback": [
      "\u001b[0;31m---------------------------------------------------------------------------\u001b[0m",
      "\u001b[0;31mModuleNotFoundError\u001b[0m                       Traceback (most recent call last)",
      "Cell \u001b[0;32mIn[10], line 1\u001b[0m\n\u001b[0;32m----> 1\u001b[0m \u001b[38;5;28;01mfrom\u001b[39;00m\u001b[38;5;250m \u001b[39m\u001b[38;5;21;01mreactive\u001b[39;00m\u001b[38;5;21;01m.\u001b[39;00m\u001b[38;5;21;01mObservableList\u001b[39;00m\u001b[38;5;250m \u001b[39m\u001b[38;5;28;01mimport\u001b[39;00m ObservableList\n\u001b[1;32m      3\u001b[0m \u001b[38;5;28;01mdef\u001b[39;00m\u001b[38;5;250m \u001b[39m\u001b[38;5;21mlistener\u001b[39m(event):\n\u001b[1;32m      4\u001b[0m     \u001b[38;5;28mprint\u001b[39m(\u001b[38;5;124mf\u001b[39m\u001b[38;5;124m\"\u001b[39m\u001b[38;5;132;01m{\u001b[39;00mevent\u001b[38;5;241m.\u001b[39maction\u001b[38;5;132;01m}\u001b[39;00m\u001b[38;5;124m \u001b[39m\u001b[38;5;132;01m{\u001b[39;00mevent\u001b[38;5;241m.\u001b[39mkey\u001b[38;5;132;01m}\u001b[39;00m\u001b[38;5;124m = \u001b[39m\u001b[38;5;132;01m{\u001b[39;00mevent\u001b[38;5;241m.\u001b[39mvalue\u001b[38;5;132;01m}\u001b[39;00m\u001b[38;5;124m\"\u001b[39m)\n",
      "\u001b[0;31mModuleNotFoundError\u001b[0m: No module named 'reactive.ObservableList'"
     ]
    },
    {
     "ename": "",
     "evalue": "",
     "output_type": "error",
     "traceback": [
      "\u001b[1;31mThe Kernel crashed while executing code in the current cell or a previous cell. \n",
      "\u001b[1;31mPlease review the code in the cell(s) to identify a possible cause of the failure. \n",
      "\u001b[1;31mClick <a href='https://aka.ms/vscodeJupyterKernelCrash'>here</a> for more info. \n",
      "\u001b[1;31mView Jupyter <a href='command:jupyter.viewOutput'>log</a> for further details."
     ]
    }
   ],
   "source": []
  }
 ],
 "metadata": {
  "kernelspec": {
   "display_name": "venv",
   "language": "python",
   "name": "python3"
  },
  "language_info": {
   "codemirror_mode": {
    "name": "ipython",
    "version": 3
   },
   "file_extension": ".py",
   "mimetype": "text/x-python",
   "name": "python",
   "nbconvert_exporter": "python",
   "pygments_lexer": "ipython3",
   "version": "3.10.17"
  }
 },
 "nbformat": 4,
 "nbformat_minor": 5
}
